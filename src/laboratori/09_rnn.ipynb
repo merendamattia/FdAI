{
 "cells": [
  {
   "cell_type": "markdown",
   "id": "86a9279d",
   "metadata": {},
   "source": [
    "\n",
    "# Reti neurali ricorrenti (RNN)"
   ]
  },
  {
   "cell_type": "code",
   "execution_count": 11,
   "id": "22538fa5",
   "metadata": {},
   "outputs": [
    {
     "name": "stdout",
     "output_type": "stream",
     "text": [
      "/home/jovyan/src/laboratori\n"
     ]
    }
   ],
   "source": [
    "%cd ~/src/laboratori"
   ]
  },
  {
   "cell_type": "markdown",
   "id": "ce3e7bfb",
   "metadata": {},
   "source": [
    "Librerie necessarie:\n",
    "- `pytorch` \n",
    "    - https://pytorch.org/\n",
    "    - https://docs.pytorch.org/docs/stable/index.html\n",
    "- Utilità: `os`, `glob`"
   ]
  },
  {
   "cell_type": "markdown",
   "id": "505a86d2",
   "metadata": {},
   "source": [
    "#### Caricamento del dataset"
   ]
  },
  {
   "cell_type": "code",
   "execution_count": 12,
   "id": "83f83df0",
   "metadata": {},
   "outputs": [
    {
     "name": "stdout",
     "output_type": "stream",
     "text": [
      "There are 20074 names in the dataset.\n",
      "Labels are {'Korean', 'Polish', 'Greek', 'German', 'Japanese', 'Irish', 'Spanish', 'Italian', 'Arabic', 'Portuguese', 'Russian', 'Scottish', 'English', 'French', 'Dutch', 'Vietnamese', 'Chinese', 'Czech'}\n",
      "For example, Abl is a Czech name,\n",
      "tensor([[ 0.4759, -0.1484,  1.3907,  1.0443, -1.0916,  0.5134,  0.8396,  0.8863,\n",
      "          0.9279, -2.0891],\n",
      "        [ 0.4183,  0.4901,  1.4757, -0.2952,  0.2672,  0.8611, -0.8653,  1.8523,\n",
      "          0.5517, -0.8969],\n",
      "        [ 2.2401, -0.1645, -1.0844, -0.0219,  1.3170, -0.4733, -1.4697,  0.9314,\n",
      "          0.7578, -0.3100]], grad_fn=<EmbeddingBackward0>) is the embedding and 17 the label idx.\n"
     ]
    }
   ],
   "source": [
    "import torch\n",
    "import torch.nn as nn\n",
    "import torch.optim as optim\n",
    "\n",
    "import os\n",
    "import glob\n",
    "from torch.utils.data import Dataset\n",
    "from torch.utils.data import DataLoader\n",
    "\n",
    "# Device configuration\n",
    "device = torch.device('mps' if torch.backends.mps.is_available() else 'cpu')\n",
    "\n",
    "# Embedding\n",
    "def embedding(text, vocab_size, embedding_dim):\n",
    "    char_indices = torch.tensor([ord(c) for c in text], dtype=torch.long)\n",
    "    embed = nn.Embedding(vocab_size, embedding_dim)\n",
    "\n",
    "    return embed(char_indices)\n",
    "\n",
    "\n",
    "# Create a DataLoader for the dataset\n",
    "class NamesDataset(Dataset):\n",
    "    def __init__(self, folder_path):\n",
    "        self.data = []\n",
    "        self.labels = []\n",
    "        self.labels_uniq = set()\n",
    "\n",
    "        # Read all .txt files in the folder\n",
    "        for file_path in glob.glob(os.path.join(folder_path, \"*.txt\")):\n",
    "            label = os.path.splitext(os.path.basename(file_path))[0]\n",
    "            self.labels_uniq.add(label)\n",
    "            with open(file_path, \"r\", encoding=\"utf-8\") as file:\n",
    "                for line in file:\n",
    "                    self.data.append(line.strip())\n",
    "                    self.labels.append(label)\n",
    "\n",
    "        # Map labels to indices\n",
    "        self.label_to_idx = {label: idx for idx, label in enumerate(self.labels_uniq)}\n",
    "\n",
    "    def __len__(self):\n",
    "        return len(self.data)\n",
    "\n",
    "    def __getitem__(self, idx):\n",
    "        text = self.data[idx]\n",
    "        label = self.labels[idx]\n",
    "        label_tensor = torch.tensor(self.label_to_idx[label], dtype=torch.long)\n",
    "        text_tensor = embedding(text, len(self.data), 10)\n",
    "        return label_tensor, text_tensor, label, text\n",
    "\n",
    "# Initialize the dataset\n",
    "dataset = NamesDataset(\"data/names\")\n",
    "print(f\"There are {len(dataset)} names in the dataset.\")\n",
    "print(f\"Labels are {dataset.labels_uniq}\")\n",
    "print(f\"For example, {dataset[0][3]} is a {dataset[0][2]} name,\")\n",
    "print(f\"{dataset[0][1]} is the embedding and {dataset[0][0]} the label idx.\")\n",
    "\n",
    "batch_size = 64\n"
   ]
  },
  {
   "cell_type": "code",
   "execution_count": 13,
   "id": "41e2070a",
   "metadata": {},
   "outputs": [
    {
     "name": "stdout",
     "output_type": "stream",
     "text": [
      "train examples = 16059, validation examples = 4015\n"
     ]
    }
   ],
   "source": [
    "# Create the DataLoader\n",
    "train_set, test_set = torch.utils.data.random_split(dataset, [int(0.8 * len(dataset)), len(dataset) - int(0.8 * len(dataset))])\n",
    "\n",
    "def collate_fn(batch):\n",
    "    labels, text_tensors, label_names, texts = zip(*batch)\n",
    "    return (\n",
    "        torch.stack(labels),\n",
    "        torch.nn.utils.rnn.pad_sequence(text_tensors, batch_first=True),\n",
    "        label_names,\n",
    "        texts,\n",
    "    )\n",
    "train_loader = DataLoader(train_set, batch_size=batch_size, shuffle=True, collate_fn=collate_fn)\n",
    "test_loader = DataLoader(test_set, batch_size=batch_size, shuffle=False, collate_fn=collate_fn)\n",
    "\n",
    "print(f\"train examples = {len(train_set)}, validation examples = {len(test_set)}\")"
   ]
  },
  {
   "cell_type": "markdown",
   "id": "2956ea16",
   "metadata": {},
   "source": [
    "#### Configurazione degli iperparametri"
   ]
  },
  {
   "cell_type": "code",
   "execution_count": 14,
   "id": "f3671109",
   "metadata": {},
   "outputs": [],
   "source": [
    "# Hyperparameters\n",
    "num_epochs = 10\n",
    "learning_rate = 0.1"
   ]
  },
  {
   "cell_type": "markdown",
   "id": "d20cc96a",
   "metadata": {},
   "source": [
    "#### Definizione della rete neurale\n",
    "\n",
    "Creare un modulo pytorch (classe derivata da `nn.Module`) che definisce l'architettura della rete.  \n",
    "Dev'essere presente uno strato ricorrente e un layer FC seguito da una funzione di attivazione log-softmax."
   ]
  },
  {
   "cell_type": "code",
   "execution_count": 15,
   "id": "17c55e6b",
   "metadata": {},
   "outputs": [],
   "source": [
    "# Define the RNN model\n",
    "class SimpleRNN(nn.Module):\n",
    "    def __init__(self, input_size, hidden_size, num_classes):\n",
    "        super(SimpleRNN, self).__init__()\n",
    "        self.rnn = nn.RNN(input_size, hidden_size, batch_first=True)\n",
    "        self.fc = nn.Linear(hidden_size, num_classes)\n",
    "        self.log_softmax = nn.LogSoftmax(dim=1)\n",
    "\n",
    "    def forward(self, x):\n",
    "        # x shape: (batch, seq_len, input_size)\n",
    "        out, _ = self.rnn(x)  # out: (batch, seq_len, hidden_size)\n",
    "        out = out[:, -1, :]   # Take the output at the last time step\n",
    "        out = self.fc(out)\n",
    "        out = self.log_softmax(out)\n",
    "        return out\n",
    "\n",
    "# Initialize the model, loss function, and optimizer\n",
    "input_size = 10  # Size of the embedding\n",
    "hidden_size = 128  # Size of the hidden state\n",
    "num_classes = len(dataset.labels_uniq)  # Number of unique labels\n",
    "model = SimpleRNN(input_size, hidden_size, num_classes).to(device)"
   ]
  },
  {
   "cell_type": "code",
   "execution_count": 16,
   "id": "444f9b1c",
   "metadata": {},
   "outputs": [
    {
     "name": "stdout",
     "output_type": "stream",
     "text": [
      "The predicted label for the input 'Albert' is: Italian\n"
     ]
    }
   ],
   "source": [
    "input = embedding('Albert', len(dataset.data), input_size).unsqueeze(0).to(device)\n",
    "\n",
    "output = model(input)\n",
    "\n",
    "_, predicted_label_idx = torch.max(output, 1)\n",
    "predicted_label = list(dataset.label_to_idx.keys())[list(dataset.label_to_idx.values()).index(predicted_label_idx.item())]\n",
    "print(f\"The predicted label for the input 'Albert' is: {predicted_label}\")"
   ]
  },
  {
   "cell_type": "markdown",
   "id": "195b093d",
   "metadata": {},
   "source": [
    "#### Scelta della funzione Loss e dell'ottimizzatore\n",
    "\n",
    "- Cross-entropy loss\n",
    "- SGD optimizer"
   ]
  },
  {
   "cell_type": "code",
   "execution_count": 17,
   "id": "462e4f18",
   "metadata": {},
   "outputs": [],
   "source": [
    "# Loss and optimizer\n",
    "criterion = nn.CrossEntropyLoss()\n",
    "optimizer = optim.SGD(model.parameters(), lr=learning_rate)"
   ]
  },
  {
   "cell_type": "markdown",
   "id": "fc455435",
   "metadata": {},
   "source": [
    "Implementare l'algoritmo di training della rete neurale sopra definita, ricordando che:\n",
    "- per un certo numero di epoche, si itera su tutto il dataset\n",
    "    - inoltre, i comandi `inputs.to(device), labels.to(device)` assicurano di utilizzare la GPU\n",
    "- l'ottimizzatore va resettato a ogni iterazione, con `optimizer.zero_grad()`\n",
    "- per ogni iterazione, si procede con il passo forward\n",
    "- per ogni iterazione, si calcola la loss relativa a quell'output della rete\n",
    "    - con `loss = criterion(outputs, labels)`\n",
    "- per ogni iterazione, si propaga all'indietro la loss\n",
    "- per ogni iterazione, si esegue uno step dell'ottimizzatore"
   ]
  },
  {
   "cell_type": "code",
   "execution_count": 18,
   "id": "9aa69fa0",
   "metadata": {},
   "outputs": [
    {
     "name": "stdout",
     "output_type": "stream",
     "text": [
      "Epoch [1/10], Step [100/251], Loss: 2.1638\n",
      "Epoch [1/10], Step [200/251], Loss: 1.9488\n",
      "Epoch [2/10], Step [100/251], Loss: 2.0503\n",
      "Epoch [2/10], Step [200/251], Loss: 1.8754\n",
      "Epoch [3/10], Step [100/251], Loss: 1.9993\n",
      "Epoch [3/10], Step [200/251], Loss: 1.8462\n",
      "Epoch [4/10], Step [100/251], Loss: 1.8380\n",
      "Epoch [4/10], Step [200/251], Loss: 2.1286\n",
      "Epoch [5/10], Step [100/251], Loss: 1.9515\n",
      "Epoch [5/10], Step [200/251], Loss: 1.5676\n",
      "Epoch [6/10], Step [100/251], Loss: 1.7754\n",
      "Epoch [6/10], Step [200/251], Loss: 1.7205\n",
      "Epoch [7/10], Step [100/251], Loss: 1.8606\n",
      "Epoch [7/10], Step [200/251], Loss: 1.8796\n",
      "Epoch [8/10], Step [100/251], Loss: 1.9494\n",
      "Epoch [8/10], Step [200/251], Loss: 1.9913\n",
      "Epoch [9/10], Step [100/251], Loss: 1.7358\n",
      "Epoch [9/10], Step [200/251], Loss: 1.6650\n",
      "Epoch [10/10], Step [100/251], Loss: 1.7773\n",
      "Epoch [10/10], Step [200/251], Loss: 1.7837\n"
     ]
    }
   ],
   "source": [
    "# Training the model\n",
    "model.train()\n",
    "for epoch in range(num_epochs):\n",
    "    for i, (labels, text_tensor, label, text) in enumerate(train_loader):\n",
    "        labels = labels.to(device)\n",
    "        text_tensor = text_tensor.to(device)\n",
    "\n",
    "        optimizer.zero_grad()                # Reset gradients\n",
    "        outputs = model(text_tensor)         # Forward pass\n",
    "        loss = criterion(outputs, labels)    # Compute loss\n",
    "        loss.backward()                      # Backward pass\n",
    "        optimizer.step()                     # Update parameters\n",
    "\n",
    "        if (i + 1) % 100 == 0:\n",
    "            print(f'Epoch [{epoch + 1}/{num_epochs}], Step [{i + 1}/{len(train_loader)}], Loss: {loss.item():.4f}')\n"
   ]
  },
  {
   "cell_type": "markdown",
   "id": "2ae8782a",
   "metadata": {},
   "source": [
    "#### Inferenza"
   ]
  },
  {
   "cell_type": "code",
   "execution_count": 19,
   "id": "f7c85408",
   "metadata": {},
   "outputs": [
    {
     "name": "stdout",
     "output_type": "stream",
     "text": [
      "Text: Daryalov, Predicted Label: Russian\n",
      "Text: Sztegon, Predicted Label: Russian\n",
      "Text: Grankin, Predicted Label: Russian\n",
      "Text: Shalhoub, Predicted Label: Russian\n",
      "Text: Jigily, Predicted Label: Russian\n",
      "Text: Bekleshov, Predicted Label: Russian\n",
      "Text: Matocha, Predicted Label: Russian\n",
      "Text: Yahnyuk, Predicted Label: Russian\n",
      "Text: Gribnov, Predicted Label: Russian\n",
      "Text: Blackburn, Predicted Label: Russian\n",
      "Text: Abbas, Predicted Label: Russian\n",
      "Text: Grossman, Predicted Label: Russian\n",
      "Text: Nakadai, Predicted Label: Russian\n",
      "Text: Oatway, Predicted Label: Russian\n",
      "Text: Hlopiev, Predicted Label: Russian\n",
      "Text: Partlett, Predicted Label: Russian\n",
      "Text: Vakulentchuk, Predicted Label: Russian\n",
      "Text: Awturhanoff, Predicted Label: Russian\n",
      "Text: Sam, Predicted Label: Russian\n",
      "Text: Chuhray, Predicted Label: Russian\n",
      "Text: Holstov, Predicted Label: Russian\n",
      "Text: Podshivalov, Predicted Label: Russian\n",
      "Text: Vozdvijensky, Predicted Label: Russian\n",
      "Text: Nazari, Predicted Label: Russian\n",
      "Text: Tsarakov, Predicted Label: Russian\n",
      "Text: Awtorhanoff, Predicted Label: Russian\n",
      "Text: Miheikin, Predicted Label: Russian\n",
      "Text: Sapojinsky, Predicted Label: Russian\n",
      "Text: Hiranuma, Predicted Label: Russian\n",
      "Text: Myers, Predicted Label: Russian\n",
      "Text: Viranovsky, Predicted Label: Russian\n",
      "Text: Aldana, Predicted Label: Russian\n",
      "Text: Shenk, Predicted Label: Russian\n",
      "Text: Daher, Predicted Label: Russian\n",
      "Text: Honenev, Predicted Label: Russian\n",
      "Text: Powles, Predicted Label: Russian\n",
      "Text: Thomson, Predicted Label: Russian\n",
      "Text: Vingovatov, Predicted Label: Russian\n",
      "Text: Moles, Predicted Label: Russian\n",
      "Text: Keeler, Predicted Label: Russian\n",
      "Text: Tahan, Predicted Label: Russian\n",
      "Text: Shigi, Predicted Label: Russian\n",
      "Text: Arian, Predicted Label: Russian\n",
      "Text: Vysokinsky, Predicted Label: Russian\n",
      "Text: Jemchujny, Predicted Label: Russian\n",
      "Text: Galevsky, Predicted Label: Russian\n",
      "Text: Nahas, Predicted Label: Russian\n",
      "Text: Naser, Predicted Label: Russian\n",
      "Text: Tsvirko, Predicted Label: Russian\n",
      "Text: Nunuev, Predicted Label: Russian\n",
      "Text: Bazzi, Predicted Label: Russian\n",
      "Text: Gorbushin, Predicted Label: Russian\n",
      "Text: Belnikov, Predicted Label: Russian\n",
      "Text: Zhelaev, Predicted Label: Russian\n",
      "Text: Parish, Predicted Label: Russian\n",
      "Text: Jewell, Predicted Label: Russian\n",
      "Text: Tzelovalnov, Predicted Label: Russian\n",
      "Text: Woolnough, Predicted Label: Russian\n",
      "Text: Tovstykh, Predicted Label: Russian\n",
      "Text: Halimov, Predicted Label: Russian\n",
      "Text: Speight, Predicted Label: Russian\n",
      "Text: Mndjoyan, Predicted Label: Russian\n",
      "Text: Takeshita, Predicted Label: Russian\n",
      "Text: Geaney, Predicted Label: Russian\n"
     ]
    }
   ],
   "source": [
    "# Make inference on the first 64 instances of the test set\n",
    "model.eval()\n",
    "with torch.no_grad():\n",
    "    for i, (labels, text_tensor, label_names, texts) in enumerate(test_loader):\n",
    "        if i == 0:  # Only process the first batch\n",
    "            text_tensor = text_tensor.to(device)\n",
    "            outputs = model(text_tensor)\n",
    "            _, predicted = torch.max(outputs, 1)\n",
    "            predicted_labels = [list(dataset.label_to_idx.keys())[list(dataset.label_to_idx.values()).index(idx.item())] for idx in predicted]\n",
    "            for text, predicted_label in zip(texts, predicted_labels):\n",
    "                print(f\"Text: {text}, Predicted Label: {predicted_label}\")\n",
    "            break\n"
   ]
  }
 ],
 "metadata": {
  "kernelspec": {
   "display_name": "Python 3 (ipykernel)",
   "language": "python",
   "name": "python3"
  }
 },
 "nbformat": 4,
 "nbformat_minor": 5
}
